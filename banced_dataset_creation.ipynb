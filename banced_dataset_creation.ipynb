{
 "cells": [
  {
   "cell_type": "code",
   "execution_count": 2,
   "id": "054ad4cf-f1e9-47b5-bdd5-38957a9a1eaa",
   "metadata": {},
   "outputs": [
    {
     "name": "stdout",
     "output_type": "stream",
     "text": [
      "Dataset created with 1000 rows and saved as 'balanced_pediatric_diabetes_dataset.csv'\n",
      "DiabetesRisk\n",
      "0    500\n",
      "1    500\n",
      "Name: count, dtype: int64\n"
     ]
    }
   ],
   "source": [
    "import numpy as np\n",
    "import pandas as pd\n",
    "\n",
    "np.random.seed(42)\n",
    "\n",
    "# Total samples\n",
    "num_samples = 1000\n",
    "half_samples = num_samples // 2  # 500 positive, 500 negative\n",
    "\n",
    "# Generate features\n",
    "ages = np.random.randint(5, 19, size=num_samples)\n",
    "heights = np.round(np.random.normal(loc=140, scale=15, size=num_samples), 1)\n",
    "weights = np.round(np.random.normal(loc=40, scale=12, size=num_samples), 1)\n",
    "\n",
    "# Clip height & weight to realistic ranges\n",
    "heights = np.clip(heights, 100, 180)\n",
    "weights = np.clip(weights, 15, 80)\n",
    "\n",
    "# BMI calculation\n",
    "bmis = np.round(weights / ((heights / 100) ** 2), 1)\n",
    "\n",
    "# Generate glucose, insulin, and BP\n",
    "glucoses = np.random.randint(70, 160, size=num_samples)\n",
    "insulins = np.random.randint(20, 180, size=num_samples)\n",
    "blood_pressures = np.random.randint(90, 130, size=num_samples)\n",
    "\n",
    "# Activity and family history\n",
    "activity_levels = np.random.choice(['Low', 'Medium', 'High'], size=num_samples)\n",
    "family_histories = np.random.choice([0, 1], size=num_samples)\n",
    "\n",
    "# Sex\n",
    "sexes = np.random.choice(['Male', 'Female'], size=num_samples)\n",
    "\n",
    "# Assign diabetes risk using deterministic + random noise\n",
    "diabetes_risks = []\n",
    "for i in range(num_samples):\n",
    "    score = 0\n",
    "    # Higher glucose, BMI, and family history increase score\n",
    "    if glucoses[i] > 120: score += 1\n",
    "    if bmis[i] > 22: score += 1\n",
    "    if family_histories[i] == 1: score += 1\n",
    "    if activity_levels[i] == 'Low': score += 1\n",
    "    if blood_pressures[i] > 120: score += 1\n",
    "\n",
    "    # Assign 1 if score is high enough or to maintain balance\n",
    "    if len([r for r in diabetes_risks if r == 1]) < half_samples:\n",
    "        diabetes_risks.append(1 if score >= 2 else 0)\n",
    "    else:\n",
    "        diabetes_risks.append(0)\n",
    "\n",
    "# Shuffle the dataset for randomness\n",
    "df = pd.DataFrame({\n",
    "    'Age': ages,\n",
    "    'Sex': np.where(sexes == 'Male', 0, 1),\n",
    "    'Height_cm': heights,\n",
    "    'Weight_kg': weights,\n",
    "    'BMI': bmis,\n",
    "    'Glucose': glucoses,\n",
    "    'Insulin': insulins,\n",
    "    'BloodPressure': blood_pressures,\n",
    "    'PhysicalActivityLevel': [ {'Low': 0, 'Medium': 1, 'High': 2}[a] for a in activity_levels ],\n",
    "    'FamilyHistory': family_histories,\n",
    "    'DiabetesRisk': diabetes_risks\n",
    "}).sample(frac=1, random_state=42).reset_index(drop=True)\n",
    "\n",
    "# Save dataset\n",
    "df.to_csv(\"balanced_pediatric_diabetes_dataset.csv\", index=False)\n",
    "print(f\"Dataset created with {df.shape[0]} rows and saved as 'balanced_pediatric_diabetes_dataset.csv'\")\n",
    "print(df['DiabetesRisk'].value_counts())\n"
   ]
  },
  {
   "cell_type": "code",
   "execution_count": null,
   "id": "406f20e6-4e70-4727-a729-a792ba9c5726",
   "metadata": {},
   "outputs": [],
   "source": []
  }
 ],
 "metadata": {
  "kernelspec": {
   "display_name": "Python 3 (ipykernel)",
   "language": "python",
   "name": "python3"
  },
  "language_info": {
   "codemirror_mode": {
    "name": "ipython",
    "version": 3
   },
   "file_extension": ".py",
   "mimetype": "text/x-python",
   "name": "python",
   "nbconvert_exporter": "python",
   "pygments_lexer": "ipython3",
   "version": "3.12.7"
  }
 },
 "nbformat": 4,
 "nbformat_minor": 5
}
